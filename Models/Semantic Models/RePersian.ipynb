{
  "nbformat": 4,
  "nbformat_minor": 0,
  "metadata": {
    "colab": {
      "name": "RePersian.ipynb",
      "provenance": [],
      "collapsed_sections": [],
      "authorship_tag": "ABX9TyPVq79Yo2MWMoYTdUBd/Bgb",
      "include_colab_link": true
    },
    "kernelspec": {
      "name": "python3",
      "display_name": "Python 3"
    }
  },
  "cells": [
    {
      "cell_type": "markdown",
      "metadata": {
        "id": "view-in-github",
        "colab_type": "text"
      },
      "source": [
        "<a href=\"https://colab.research.google.com/github/Ledengary/COVID-KG-QA/blob/KG/RePersian.ipynb\" target=\"_parent\"><img src=\"https://colab.research.google.com/assets/colab-badge.svg\" alt=\"Open In Colab\"/></a>"
      ]
    },
    {
      "cell_type": "code",
      "metadata": {
        "id": "GlDbxadY5Vbx"
      },
      "source": [
        "try:\r\n",
        "  from hazm import *\r\n",
        "except:\r\n",
        "  !wget https://github.com/sobhe/hazm/releases/download/v0.5/resources-0.5.zip\r\n",
        "  !wget https://github.com/sobhe/hazm/releases/download/v0.5/resources-stanford.zip\r\n",
        "  !unzip resources-0.5.zip -d resources\r\n",
        "  !unzip resources-stanford.zip -d resources\r\n",
        "  from hazm import *"
      ],
      "execution_count": 31,
      "outputs": []
    },
    {
      "cell_type": "markdown",
      "metadata": {
        "id": "PZs7NZwaBbBa"
      },
      "source": [
        "# Regex"
      ]
    },
    {
      "cell_type": "code",
      "metadata": {
        "id": "gDn22cvCs3xr"
      },
      "source": [
        "import re\r\n",
        "\r\n",
        "correct_POS = {'AJ': 'ADJ', 'PRO': 'PR', 'P': 'PREP', 'Ne': 'N', 'AJe': 'ADJ'}\r\n",
        "\r\n",
        "SBJ_pattern = '^(?!PREP)(PREM|PRENUM(PREP(ADJ)?)?)?((N((ADJ)|(N)+)*(ADJ|N|PR))|(N(ADJ)?)|(PR))(?!POSTP)(CONJ)?'\r\n",
        "OBJ_pattern = '^(?!PREP)(PREM|PRENUM(PREP(ADJ)?)?)?((N((ADJ)|(N)+)*(ADJ|N|PR))|(N(ADJ)?)|(PR))(POSTP)'\r\n",
        "PP_pattern = '(PREP)(PREM|PRENUM(PREP(ADJ)?)?)?((N((ADJ)|(N)+)*(ADJ|N|PR))|(N(ADJ)?)|(PR))(?!POSTP)(CONJ)?'\r\n",
        "MOS_pattern = '^(?!PREP)(PREM|PRENUM(PREP(ADJ)?)?)?((N((ADJ)|(N)+)*(ADJ|N|PR))|(N(ADJ)?)|(PR))(?!POSTP)(CONJ)?'\r\n",
        "V_pattern = '(V)*V'"
      ],
      "execution_count": 104,
      "outputs": []
    },
    {
      "cell_type": "code",
      "metadata": {
        "colab": {
          "base_uri": "https://localhost:8080/"
        },
        "id": "UNm2NfQcuWHs",
        "outputId": "2a1a9cda-36db-4957-9dfb-8e346fb5d537"
      },
      "source": [
        "sentence = 'رضا مغازه عجیب شهر را فروخت'\r\n",
        "sentence_tokenized = word_tokenize(sentence)\r\n",
        "print('sentence_tokenized', sentence_tokenized)\r\n",
        "sentence_tagged = tagger.tag(sentence_tokenized)\r\n",
        "print('sentence_tagged', sentence_tagged)\r\n",
        "tag_query = ''.join([each[1] if each[1] not in correct_POS else correct_POS[each[1]] for each in sentence_tagged])\r\n",
        "print('tag_query', tag_query)"
      ],
      "execution_count": 107,
      "outputs": [
        {
          "output_type": "stream",
          "text": [
            "sentence_tokenized ['رضا', 'مغازه', 'عجیب', 'شهر', 'را', 'فروخت']\n",
            "sentence_tagged [('رضا', 'N'), ('مغازه', 'Ne'), ('عجیب', 'AJe'), ('شهر', 'N'), ('را', 'POSTP'), ('فروخت', 'V')]\n",
            "tag_query NNADJNPOSTPV\n"
          ],
          "name": "stdout"
        }
      ]
    },
    {
      "cell_type": "code",
      "metadata": {
        "colab": {
          "base_uri": "https://localhost:8080/"
        },
        "id": "lROTh8kPxW4C",
        "outputId": "6c0222f8-bd1a-4dd6-8be2-0e4da07cc573"
      },
      "source": [
        "SBJ_answer = re.search(SBJ_pattern, tag_query)\r\n",
        "OBJ_answer = re.search(OBJ_pattern, tag_query)\r\n",
        "PP_answer = re.search(PP_pattern, tag_query)\r\n",
        "MOS_answer = re.search(MOS_pattern, tag_query)\r\n",
        "V_answer = re.search(V_pattern, tag_query)\r\n",
        "print('SBJ_answer', SBJ_answer)\r\n",
        "print('OBJ_answer', OBJ_answer)\r\n",
        "print('PP_answer', PP_answer)\r\n",
        "print('MOS_answer', MOS_answer)\r\n",
        "print('V_answer', V_answer)"
      ],
      "execution_count": 108,
      "outputs": [
        {
          "output_type": "stream",
          "text": [
            "SBJ_answer <_sre.SRE_Match object; span=(0, 5), match='NNADJ'>\n",
            "OBJ_answer <_sre.SRE_Match object; span=(0, 11), match='NNADJNPOSTP'>\n",
            "PP_answer None\n",
            "MOS_answer <_sre.SRE_Match object; span=(0, 5), match='NNADJ'>\n",
            "V_answer <_sre.SRE_Match object; span=(11, 12), match='V'>\n"
          ],
          "name": "stdout"
        }
      ]
    },
    {
      "cell_type": "markdown",
      "metadata": {
        "id": "cRP5DjCWBTbN"
      },
      "source": [
        "# Chunking with Hazm"
      ]
    },
    {
      "cell_type": "code",
      "metadata": {
        "colab": {
          "base_uri": "https://localhost:8080/",
          "height": 35
        },
        "id": "BsVhWoYUxY2p",
        "outputId": "5cb559e1-bb89-47e0-80de-5e0b379a7e09"
      },
      "source": [
        "chk = 'شستن دست باعث جلوگیری از ویروس کرونا خواهد شد.'\r\n",
        "chunker = Chunker(model='resources/chunker.model')\r\n",
        "tagged = tagger.tag(word_tokenize(chk))\r\n",
        "tree2brackets(chunker.parse(tagged))"
      ],
      "execution_count": 121,
      "outputs": [
        {
          "output_type": "execute_result",
          "data": {
            "application/vnd.google.colaboratory.intrinsic+json": {
              "type": "string"
            },
            "text/plain": [
              "'[شستن دست NP] [باعث جلوگیری ADJP] [از PP] [ویروس کرونا NP] [خواهد_شد VP] .'"
            ]
          },
          "metadata": {
            "tags": []
          },
          "execution_count": 121
        }
      ]
    },
    {
      "cell_type": "code",
      "metadata": {
        "id": "V83Szvie-Gl2"
      },
      "source": [
        ""
      ],
      "execution_count": null,
      "outputs": []
    }
  ]
}